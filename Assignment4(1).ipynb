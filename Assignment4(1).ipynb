{
 "cells": [
  {
   "cell_type": "code",
   "execution_count": 1,
   "id": "c95d0837-f1dd-4464-a7d9-6da222a92f89",
   "metadata": {},
   "outputs": [],
   "source": [
    "#1.A:-\n",
    "class vehicle :\n",
    "    def __init__(self,name_of_vehicle, max_speed, average_of_vehicle) :\n",
    "        self.name_of_vehicle=name_of_vehicle\n",
    "        self.max_speed=max_speed\n",
    "        self.average_of_vehicle=average_of_vehicle"
   ]
  },
  {
   "cell_type": "code",
   "execution_count": 2,
   "id": "9ba80bda-4db5-4f0b-9807-751332f3728b",
   "metadata": {},
   "outputs": [],
   "source": [
    "#2.A:-\n",
    "class car(vehicle) :\n",
    "    def seating_capacity(self,capacity) :\n",
    "        self.capacity=capacity\n",
    "        return 'name of vehicle is '+super.name_of_vehicle+',capacity is '+self.capacity"
   ]
  },
  {
   "cell_type": "code",
   "execution_count": 7,
   "id": "9e9481e7-3809-4ffb-baea-5b3c4faac4ae",
   "metadata": {},
   "outputs": [
    {
     "name": "stdout",
     "output_type": "stream",
     "text": [
      "one\n",
      "two\n",
      "three\n"
     ]
    }
   ],
   "source": [
    "#3.A:-When a class is derived from more than one base class it is called multiple Inheritance.\n",
    "class one :\n",
    "    print('one')\n",
    "class two :\n",
    "    print('two')\n",
    "class three(one,two) :\n",
    "    print('three')\n"
   ]
  },
  {
   "cell_type": "code",
   "execution_count": 8,
   "id": "1afdc714-1903-4bf9-a472-11064473f186",
   "metadata": {},
   "outputs": [],
   "source": [
    "#4.A:-Basically, the main purpose of using getters and setters in object-oriented programs is to ensure data encapsulation.\n",
    "class person :\n",
    "    def __init__(self, name) :\n",
    "        self.name=name\n",
    "    def get_name() :\n",
    "        return self.name\n",
    "    def set_name(self, name) :\n",
    "        sef.name=name"
   ]
  },
  {
   "cell_type": "code",
   "execution_count": 9,
   "id": "836ce21c-e4a8-42e0-9763-3c5b0b21a405",
   "metadata": {},
   "outputs": [],
   "source": [
    "#5.A:-Two or more methods have the same name but different numbers of parameters or different types of parameters, or both. These methods are called overloaded methods and this is called method overloading.\n",
    "class cal :\n",
    "    def product(a,b) :\n",
    "        return a*b\n",
    "    def product(a,b,c) :\n",
    "        return a*b*c"
   ]
  },
  {
   "cell_type": "code",
   "execution_count": null,
   "id": "b062a2a1-4d71-44ad-91b8-f26bec88efae",
   "metadata": {},
   "outputs": [],
   "source": []
  }
 ],
 "metadata": {
  "kernelspec": {
   "display_name": "Python 3 (ipykernel)",
   "language": "python",
   "name": "python3"
  },
  "language_info": {
   "codemirror_mode": {
    "name": "ipython",
    "version": 3
   },
   "file_extension": ".py",
   "mimetype": "text/x-python",
   "name": "python",
   "nbconvert_exporter": "python",
   "pygments_lexer": "ipython3",
   "version": "3.10.8"
  }
 },
 "nbformat": 4,
 "nbformat_minor": 5
}
